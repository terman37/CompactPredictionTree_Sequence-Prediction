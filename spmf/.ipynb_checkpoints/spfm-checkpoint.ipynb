{
 "cells": [
  {
   "cell_type": "code",
   "execution_count": 1,
   "metadata": {},
   "outputs": [],
   "source": [
    "import pandas as pd\n",
    "from spmf import Spmf"
   ]
  },
  {
   "cell_type": "markdown",
   "metadata": {},
   "source": [
    "The input file format is defined as follows. It is a text file where each line represents a sequence from a sequence database. Each item from a sequence is separated by single space and a -1. The value \"-2\" indicates the end of a sequence (it appears at the end of each line). For example, the input file \"contextCPT.txt\" contains the following four lines (four sequences).\n",
    "\n",
    "1 -1 2 -1 3 -1 4 -1 6 -1 -2\n",
    "4 -1 3 -1 2 -1 5 -1 -2\n",
    "5 -1 1 -1 4 -1 3 -1 2 -1 -2\n",
    "5 -1 7 -1 1 -1 4 -1 2 -1 3 -1 -2"
   ]
  },
  {
   "cell_type": "code",
   "execution_count": 2,
   "metadata": {},
   "outputs": [],
   "source": [
    "df = pd.read_csv('./data/sample.csv',sep=';')"
   ]
  },
  {
   "cell_type": "code",
   "execution_count": 3,
   "metadata": {},
   "outputs": [
    {
     "data": {
      "text/html": [
       "<div>\n",
       "<style scoped>\n",
       "    .dataframe tbody tr th:only-of-type {\n",
       "        vertical-align: middle;\n",
       "    }\n",
       "\n",
       "    .dataframe tbody tr th {\n",
       "        vertical-align: top;\n",
       "    }\n",
       "\n",
       "    .dataframe thead th {\n",
       "        text-align: right;\n",
       "    }\n",
       "</style>\n",
       "<table border=\"1\" class=\"dataframe\">\n",
       "  <thead>\n",
       "    <tr style=\"text-align: right;\">\n",
       "      <th></th>\n",
       "      <th>PARCOURS_BENEF_ID</th>\n",
       "      <th>BENEFICIAIRE_NUM_PERS_RFM</th>\n",
       "      <th>PARCOURS_BENEF</th>\n",
       "    </tr>\n",
       "  </thead>\n",
       "  <tbody>\n",
       "    <tr>\n",
       "      <th>0</th>\n",
       "      <td>23|26|23|13</td>\n",
       "      <td>13342</td>\n",
       "      <td>PH_65|PH_Autr|PH_Autr|Med_Gen</td>\n",
       "    </tr>\n",
       "    <tr>\n",
       "      <th>1</th>\n",
       "      <td>13|03|07|13|03|13</td>\n",
       "      <td>73035</td>\n",
       "      <td>Med_Gen|Bio|Inf|Med_Gen|Bio|Med_Gen</td>\n",
       "    </tr>\n",
       "    <tr>\n",
       "      <th>2</th>\n",
       "      <td>17|18|13|26</td>\n",
       "      <td>16260</td>\n",
       "      <td>Med_Spe|Med_Dou|Med_Gen|PH_65</td>\n",
       "    </tr>\n",
       "    <tr>\n",
       "      <th>3</th>\n",
       "      <td>26|26|23|26|26|11|13|17|26|26|26|26|26|13|26</td>\n",
       "      <td>13392</td>\n",
       "      <td>PH_65|PH_65|PH_Autr|PH_65|PH_65|Med_Chi|Med_Ge...</td>\n",
       "    </tr>\n",
       "    <tr>\n",
       "      <th>4</th>\n",
       "      <td>26|23|07|23</td>\n",
       "      <td>48686</td>\n",
       "      <td>PH_65|PH_Autr|Inf|PH_Autr</td>\n",
       "    </tr>\n",
       "  </tbody>\n",
       "</table>\n",
       "</div>"
      ],
      "text/plain": [
       "                              PARCOURS_BENEF_ID  BENEFICIAIRE_NUM_PERS_RFM  \\\n",
       "0                                   23|26|23|13                      13342   \n",
       "1                             13|03|07|13|03|13                      73035   \n",
       "2                                   17|18|13|26                      16260   \n",
       "3  26|26|23|26|26|11|13|17|26|26|26|26|26|13|26                      13392   \n",
       "4                                   26|23|07|23                      48686   \n",
       "\n",
       "                                      PARCOURS_BENEF  \n",
       "0                      PH_65|PH_Autr|PH_Autr|Med_Gen  \n",
       "1                Med_Gen|Bio|Inf|Med_Gen|Bio|Med_Gen  \n",
       "2                      Med_Spe|Med_Dou|Med_Gen|PH_65  \n",
       "3  PH_65|PH_65|PH_Autr|PH_65|PH_65|Med_Chi|Med_Ge...  \n",
       "4                          PH_65|PH_Autr|Inf|PH_Autr  "
      ]
     },
     "execution_count": 3,
     "metadata": {},
     "output_type": "execute_result"
    }
   ],
   "source": [
    "df.head()"
   ]
  },
  {
   "cell_type": "code",
   "execution_count": 4,
   "metadata": {},
   "outputs": [
    {
     "data": {
      "text/plain": [
       "0                                            23|26|23|13\n",
       "1                                      13|03|07|13|03|13\n",
       "2                                            17|18|13|26\n",
       "3           26|26|23|26|26|11|13|17|26|26|26|26|26|13|26\n",
       "4                                            26|23|07|23\n",
       "                             ...                        \n",
       "995    17|13|17|23|26|13|17|15|17|26|06|11|17|26|17|2...\n",
       "996                                       19|23|26|23|11\n",
       "997    09|26|11|26|09|26|09|13|23|26|08|08|08|08|08|0...\n",
       "998                        23|09|23|26|06|19|23|26|11|11\n",
       "999                                          13|17|13|09\n",
       "Name: PARCOURS_BENEF_ID, Length: 1000, dtype: object"
      ]
     },
     "execution_count": 4,
     "metadata": {},
     "output_type": "execute_result"
    }
   ],
   "source": [
    "seqs = df['PARCOURS_BENEF_ID']\n",
    "seqs"
   ]
  },
  {
   "cell_type": "code",
   "execution_count": 5,
   "metadata": {},
   "outputs": [],
   "source": [
    "with open('./data/train.txt','w') as f:\n",
    "    for idx,row in seqs.items():\n",
    "        seq = row.replace('|',' -1 ')\n",
    "        seq = seq + ' -2\\n'\n",
    "        f.write(seq)"
   ]
  },
  {
   "cell_type": "code",
   "execution_count": 8,
   "metadata": {},
   "outputs": [
    {
     "name": "stdout",
     "output_type": "stream",
     "text": [
      ">/C:/MY_DATAS/MyGIT/Sequence_pattern/spmf/spmf.jar\n",
      "=============  PREFIXSPAN 0.99-2016 - STATISTICS =============\n",
      " Total time ~ 95 ms\n",
      " Frequent sequences count : 81\n",
      " Max memory (mb) : 14.41552734375\n",
      " minsup = 250 sequences.\n",
      " Pattern count : 81\n",
      "===================================================\n",
      "\n",
      "\n",
      "             pattern  sup\n",
      "0                [3]  371\n",
      "1            [3, 26]  306\n",
      "2                [7]  266\n",
      "3                [9]  252\n",
      "4               [11]  286\n",
      "..               ...  ...\n",
      "76      [26, 13, 23]  302\n",
      "77  [26, 13, 23, 26]  283\n",
      "78      [26, 13, 26]  373\n",
      "79  [26, 13, 26, 26]  303\n",
      "80      [26, 13, 13]  282\n",
      "\n",
      "[81 rows x 2 columns]\n"
     ]
    }
   ],
   "source": [
    "spmf = Spmf(\"PrefixSpan\", input_filename=\"./data/train.txt\",\n",
    "            output_filename=\"./data/output.txt\", arguments=[0.25,5], spmf_bin_location_dir=\"./spmf\")\n",
    "spmf.run()\n",
    "print(spmf.to_pandas_dataframe(pickle=True))\n",
    "spmf.to_csv(\"./data/output.csv\")"
   ]
  },
  {
   "cell_type": "code",
   "execution_count": null,
   "metadata": {},
   "outputs": [],
   "source": []
  }
 ],
 "metadata": {
  "kernelspec": {
   "display_name": "test37",
   "language": "python",
   "name": "test37"
  },
  "language_info": {
   "codemirror_mode": {
    "name": "ipython",
    "version": 3
   },
   "file_extension": ".py",
   "mimetype": "text/x-python",
   "name": "python",
   "nbconvert_exporter": "python",
   "pygments_lexer": "ipython3",
   "version": "3.7.7"
  }
 },
 "nbformat": 4,
 "nbformat_minor": 4
}
