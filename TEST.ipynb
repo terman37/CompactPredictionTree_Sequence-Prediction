{
 "cells": [
  {
   "cell_type": "code",
   "execution_count": null,
   "metadata": {},
   "outputs": [],
   "source": [
    "import pandas as pd\n",
    "import matplotlib.pyplot as plt\n",
    "import numpy as np"
   ]
  },
  {
   "cell_type": "code",
   "execution_count": null,
   "metadata": {},
   "outputs": [],
   "source": [
    "filename='./data/EXT_PRESTATION_HOU_20200702.csv'\n",
    "sheetname=''"
   ]
  },
  {
   "cell_type": "code",
   "execution_count": null,
   "metadata": {},
   "outputs": [],
   "source": [
    "%time df=pd.read_csv(filename,sep=';',decimal=',',engine='python')"
   ]
  },
  {
   "cell_type": "code",
   "execution_count": null,
   "metadata": {},
   "outputs": [],
   "source": [
    "df"
   ]
  },
  {
   "cell_type": "code",
   "execution_count": null,
   "metadata": {},
   "outputs": [],
   "source": [
    "df.info()"
   ]
  },
  {
   "cell_type": "code",
   "execution_count": null,
   "metadata": {},
   "outputs": [],
   "source": []
  },
  {
   "cell_type": "code",
   "execution_count": null,
   "metadata": {},
   "outputs": [],
   "source": [
    "# Strip blanks for object columns\n",
    "%time df = df.apply(lambda x: x.str.strip() if x.dtype == \"object\" else x)"
   ]
  },
  {
   "cell_type": "code",
   "execution_count": null,
   "metadata": {},
   "outputs": [],
   "source": [
    "def convert_cols(df,l,typ):\n",
    "    f = '%d/%m/%y'\n",
    "    for col in l:\n",
    "        try:\n",
    "            if typ=='date':\n",
    "                df[col] = pd.to_datetime(df[col],format=f)\n",
    "            else:\n",
    "                df[col] = df[col].astype(typ)\n",
    "        except Exception as e:\n",
    "            print(col,' to ', typ)\n",
    "            print('\\tError: ',e)"
   ]
  },
  {
   "cell_type": "code",
   "execution_count": null,
   "metadata": {},
   "outputs": [],
   "source": [
    "# Identify Dates\n",
    "dates = ['PSDMDATARR','PSDMDATFCU','PSEPDDESOI','PSEPDFESOI']\n",
    "\n",
    "convert_cols(df,dates,'date')"
   ]
  },
  {
   "cell_type": "code",
   "execution_count": null,
   "metadata": {},
   "outputs": [],
   "source": [
    "# List Categories \n",
    "cats = ['PSDMTYPDEM','PSDMTYPPEC','PSLICODAXE','PSOSCODETA','PSEPCODORI','PSEPTYPLIQ','PSEPCODNSS','PSEPTYPCNT','PSEPTYPFRN','PSEOETRRCU',\n",
    "        'PSEOCODGRE','PSEOCODCRO','PSEOCODCPA','PSDECODERA','PSLNCODMTR','PSLNCODDMT','PSLNINDFJO','PSLNQIFDEP','PSLNCODARP']\n",
    "\n",
    "convert_cols(df,cats,'category')"
   ]
  },
  {
   "cell_type": "code",
   "execution_count": null,
   "metadata": {},
   "outputs": [],
   "source": [
    "# other objects... ex comment\n",
    "# or discrete strin variables\n",
    "\n",
    "other = ['PSDMNUMFCU','PSDUIDFSYS','PSDUNUMDOS','PSLICMRLIG','PSDENUMCIN']\n",
    "\n",
    "convert_cols(df,other,'object')"
   ]
  },
  {
   "cell_type": "code",
   "execution_count": null,
   "metadata": {},
   "outputs": [],
   "source": [
    "# List numerical variables \n",
    "floats = ['PSDMNUMDEM','PSLINUMLGP','PSLINUMEXT','PSDEMNTROT','PSDEMNTRCT','PSDECUMDEP','PSLNPRURCU','PSLNMNTROU','PSLNMNTRCE',\n",
    "          'PSLNMNTREU','PSLNBASRBT','PSLNVALTRU','PSLNVALTOU','PSDENUMDCP','PSLNNUMLGP','PSLNDENOMB','PSLNSEQRVL']\n",
    "\n",
    "convert_cols(df,floats,'float64')"
   ]
  },
  {
   "cell_type": "code",
   "execution_count": null,
   "metadata": {},
   "outputs": [],
   "source": [
    "df.info()"
   ]
  },
  {
   "cell_type": "code",
   "execution_count": null,
   "metadata": {},
   "outputs": [],
   "source": [
    "def explore_dates(df, colname):\n",
    "    \n",
    "    # Descriptive Stats\n",
    "    uniques = df[colname].unique()\n",
    "    print('Name:  %s' % colname)\n",
    "    print('Count: %i / distinct: %i' % (df[colname].count(),len(uniques)))\n",
    "    print('Empty: %i' % df[colname].isnull().sum())\n",
    "    print('Min:   %s' % (min(uniques)))\n",
    "    print('Max:   %s' % (max(uniques)))\n",
    "    \n",
    "    # Graph\n",
    "    dat = df.copy()\n",
    "    dat =dat[colname]\n",
    "    x = pd.DataFrame(dat.value_counts())\n",
    "    plt.rcParams['figure.figsize'] = [12, 4]\n",
    "    plt.bar(x.index,x[colname])\n",
    "    plt.xticks(rotation=90)\n",
    "    plt.show()"
   ]
  },
  {
   "cell_type": "code",
   "execution_count": null,
   "metadata": {},
   "outputs": [],
   "source": [
    "def explore_cats(df, colname, top=10):\n",
    "    \n",
    "    # Descriptive Stats\n",
    "    uniques = df[colname].value_counts()\n",
    "    print('Name:  %s' % colname)\n",
    "    print('Count: %i / distinct: %i' % (df[colname].count(),len(uniques)))\n",
    "    print('Empty: %i' % df[colname].isnull().sum())\n",
    "    print('Top 10 cats:')\n",
    "    print(uniques[:10])\n",
    "    \n",
    "    # Graph\n",
    "    dat = df.copy()\n",
    "    dat =dat[colname]\n",
    "    x = pd.DataFrame(dat.value_counts())\n",
    "    plt.rcParams['figure.figsize'] = [12, 4]\n",
    "    plt.bar(x.index[:top],x[colname][:top])\n",
    "    plt.xticks(rotation=90)\n",
    "    plt.show()"
   ]
  },
  {
   "cell_type": "code",
   "execution_count": null,
   "metadata": {},
   "outputs": [],
   "source": [
    "for col in dates:\n",
    "    explore_dates(df,col)"
   ]
  },
  {
   "cell_type": "code",
   "execution_count": null,
   "metadata": {},
   "outputs": [],
   "source": [
    "for col in cats:\n",
    "    explore_cats(df,col,top=10)"
   ]
  },
  {
   "cell_type": "code",
   "execution_count": null,
   "metadata": {},
   "outputs": [],
   "source": [
    "explore_cats(df,'PSEOCODCRO',top=20)\n",
    "x = df.PSEOCODGRE.value_counts()"
   ]
  },
  {
   "cell_type": "code",
   "execution_count": null,
   "metadata": {},
   "outputs": [],
   "source": [
    "x"
   ]
  },
  {
   "cell_type": "code",
   "execution_count": null,
   "metadata": {},
   "outputs": [],
   "source": [
    "generic_stats(df,'PSEPDDESOI')"
   ]
  },
  {
   "cell_type": "code",
   "execution_count": null,
   "metadata": {},
   "outputs": [],
   "source": []
  },
  {
   "cell_type": "code",
   "execution_count": null,
   "metadata": {},
   "outputs": [],
   "source": [
    "df.PSEOCODGRE = df.PSEOCODGRE.astype('category')"
   ]
  },
  {
   "cell_type": "code",
   "execution_count": null,
   "metadata": {},
   "outputs": [],
   "source": []
  },
  {
   "cell_type": "code",
   "execution_count": null,
   "metadata": {},
   "outputs": [],
   "source": [
    "for idx,col in df.select_dtypes(include='object').iteritems():\n",
    "    print('\\n-->',col.name)\n",
    "#     print('\\t',col.unique())\n",
    "    print(col.value_counts(dropna=False))"
   ]
  },
  {
   "cell_type": "code",
   "execution_count": null,
   "metadata": {},
   "outputs": [],
   "source": [
    "df[df['PSDMNUMFCU'].str.strip()=='000005562']"
   ]
  },
  {
   "cell_type": "code",
   "execution_count": null,
   "metadata": {},
   "outputs": [],
   "source": []
  }
 ],
 "metadata": {
  "kernelspec": {
   "display_name": "Lab37",
   "language": "python",
   "name": "lab37"
  },
  "language_info": {
   "codemirror_mode": {
    "name": "ipython",
    "version": 3
   },
   "file_extension": ".py",
   "mimetype": "text/x-python",
   "name": "python",
   "nbconvert_exporter": "python",
   "pygments_lexer": "ipython3",
   "version": "3.7.7"
  }
 },
 "nbformat": 4,
 "nbformat_minor": 4
}
