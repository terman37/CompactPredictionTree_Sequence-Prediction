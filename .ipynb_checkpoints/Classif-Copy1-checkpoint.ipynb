{
 "cells": [
  {
   "cell_type": "markdown",
   "metadata": {},
   "source": [
    "Generic imports"
   ]
  },
  {
   "cell_type": "code",
   "execution_count": null,
   "metadata": {},
   "outputs": [],
   "source": [
    "%matplotlib inline\n",
    "import matplotlib.pyplot as plt\n",
    "import pandas as pd\n",
    "import seaborn as sns\n",
    "import numpy as np"
   ]
  },
  {
   "cell_type": "code",
   "execution_count": null,
   "metadata": {},
   "outputs": [],
   "source": [
    "data = pd.read_csv('./data/sample.csv',sep=';')\n",
    "data.head()"
   ]
  },
  {
   "cell_type": "code",
   "execution_count": null,
   "metadata": {},
   "outputs": [],
   "source": [
    "data.info()"
   ]
  },
  {
   "cell_type": "code",
   "execution_count": null,
   "metadata": {},
   "outputs": [],
   "source": [
    "# Parameters\n",
    "history_depth = 3"
   ]
  },
  {
   "cell_type": "code",
   "execution_count": null,
   "metadata": {},
   "outputs": [],
   "source": [
    "new = []\n",
    "\n",
    "keep=['BENEFICIAIRE_AGE','BENEFICIAIRE_SEXE','BENEFICIAIRE_DEPARTEMENT']\n",
    "for idx,row in data.iterrows():\n",
    "    \n",
    "    X=[row[c] for c in keep]\n",
    "\n",
    "    seq = row['LISTE_ACTES_EXT'].split('|')\n",
    "    for i in range(history_depth):\n",
    "        seq = ['0'] + seq\n",
    "    seq = seq + ['0']\n",
    "    \n",
    "    for x in range(len(seq)-history_depth):\n",
    "        Z = [i for i in seq[x:x+history_depth+1]]\n",
    "        W = X+Z\n",
    "        new.append(W)  "
   ]
  },
  {
   "cell_type": "code",
   "execution_count": null,
   "metadata": {},
   "outputs": [],
   "source": [
    "cols = keep + ['X%i' % i for i in range(history_depth)] + ['Y']\n",
    "df = pd.DataFrame(new,columns=cols)"
   ]
  },
  {
   "cell_type": "code",
   "execution_count": null,
   "metadata": {},
   "outputs": [],
   "source": [
    "df"
   ]
  },
  {
   "cell_type": "code",
   "execution_count": null,
   "metadata": {},
   "outputs": [],
   "source": [
    "df.info()"
   ]
  },
  {
   "cell_type": "code",
   "execution_count": null,
   "metadata": {},
   "outputs": [],
   "source": [
    "# create ACTES dictionnary for data encoding\n",
    "\n",
    "cat = pd.unique(df['Y'])\n",
    "nb_cat = len(cat)\n",
    "cat_to_int = dict((c, i) for i, c in enumerate(cat))"
   ]
  },
  {
   "cell_type": "code",
   "execution_count": null,
   "metadata": {},
   "outputs": [],
   "source": [
    "class MultiColumnLabelEncoder:\n",
    "    def __init__(self,columns = None):\n",
    "        self.columns = columns # array of column names to encode\n",
    "\n",
    "    def fit(self,dframe,y=None):\n",
    "        cat = pd.unique(dframe['Y'])\n",
    "        nb_cat = len(cat)\n",
    "        cat_to_int = dict((c, i) for i, c in enumerate(cat))\n",
    "        self.dict = cat_to_int\n",
    "        return self\n",
    "\n",
    "    def transform(self,dframe):\n",
    "        output = dframe.copy()\n",
    "        if self.columns is not None:\n",
    "            for col in self.columns:\n",
    "#                 output[col] = LabelEncoder().fit_transform(output[col])\n",
    "                output[col] = [self.dict[i] for i in output[col]]\n",
    "        else:\n",
    "            for colname,col in output.iteritems():\n",
    "                output[colname] = LabelEncoder().fit_transform(col)\n",
    "        return output\n",
    "\n",
    "    def fit_transform(self,dframe,y=None):\n",
    "        return self.fit(dframe,y).transform(dframe)"
   ]
  },
  {
   "cell_type": "code",
   "execution_count": null,
   "metadata": {},
   "outputs": [],
   "source": [
    "df2 = MultiColumnLabelEncoder(columns=['X0','X1','X2','Y']).fit_transform(df)"
   ]
  },
  {
   "cell_type": "code",
   "execution_count": null,
   "metadata": {},
   "outputs": [],
   "source": [
    "from sklearn.preprocessing import LabelEncoder\n",
    "\n",
    "encode_s = LabelEncoder()\n",
    "df2['BENEFICIAIRE_SEXE']=encode_s.fit_transform(df2['BENEFICIAIRE_SEXE'])"
   ]
  },
  {
   "cell_type": "code",
   "execution_count": null,
   "metadata": {},
   "outputs": [],
   "source": [
    "df2 = df2[df2['BENEFICIAIRE_DEPARTEMENT']!='@  ']\n",
    "df2['BENEFICIAIRE_DEPARTEMENT'] = df2['BENEFICIAIRE_DEPARTEMENT'].astype('int64')"
   ]
  },
  {
   "cell_type": "code",
   "execution_count": null,
   "metadata": {},
   "outputs": [],
   "source": [
    "pd.unique(df2['BENEFICIAIRE_DEPARTEMENT'])"
   ]
  },
  {
   "cell_type": "code",
   "execution_count": null,
   "metadata": {},
   "outputs": [],
   "source": [
    "df2.info()"
   ]
  },
  {
   "cell_type": "code",
   "execution_count": null,
   "metadata": {},
   "outputs": [],
   "source": [
    "df2"
   ]
  },
  {
   "cell_type": "code",
   "execution_count": null,
   "metadata": {},
   "outputs": [],
   "source": [
    "from sklearn.model_selection import train_test_split\n",
    "\n",
    "X=df2.drop(labels='Y', axis=1)\n",
    "Y=df2['Y']\n",
    "\n",
    "# Create train and test sets\n",
    "xtrain,xtest,ytrain,ytest= train_test_split(X,Y,test_size=0.2,random_state=37)"
   ]
  },
  {
   "cell_type": "code",
   "execution_count": null,
   "metadata": {},
   "outputs": [],
   "source": [
    "from sklearn.preprocessing import StandardScaler\n",
    "\n",
    "# Scale x data\n",
    "scaler = StandardScaler()\n",
    "scaler.fit(xtrain)\n",
    "\n",
    "xtrain_s = scaler.transform(xtrain)\n",
    "xtest_s = scaler.transform(xtest)"
   ]
  },
  {
   "cell_type": "code",
   "execution_count": null,
   "metadata": {},
   "outputs": [],
   "source": [
    "xtrain_s"
   ]
  },
  {
   "cell_type": "code",
   "execution_count": null,
   "metadata": {},
   "outputs": [],
   "source": [
    "from sklearn.neighbors import KNeighborsClassifier\n",
    "from sklearn.tree import DecisionTreeClassifier\n",
    "from sklearn.svm import SVC\n",
    "from sklearn.ensemble import RandomForestClassifier, AdaBoostClassifier\n",
    "from sklearn.naive_bayes import GaussianNB\n",
    "\n",
    "classifs = [KNeighborsClassifier(),\n",
    "           DecisionTreeClassifier(random_state=37),\n",
    "#            SVC(),\n",
    "           RandomForestClassifier(random_state=37),\n",
    "#            AdaBoostClassifier(random_state=37),\n",
    "           GaussianNB(),\n",
    "           ]\n",
    "\n",
    "classif_names=['KNN\\t\\t', \n",
    "               'DecisionTree\\t', \n",
    "#                'SVC\\t\\t',\n",
    "               'RandomForest\\t',\n",
    "#                'AdaBoost\\t',\n",
    "               'Naive Bayes\\t',\n",
    "               ]\n",
    "\n",
    "# Apply different classifiers\n",
    "bestscore=0\n",
    "bestclf =''\n",
    "for name, clf in zip(classif_names, classifs):\n",
    "    classif = clf.fit(xtrain, ytrain)\n",
    "    \n",
    "    score1 = classif.score(xtest_s, ytest)*100\n",
    "    print(\"%s Score : %.2f %%\" % (name, score1))\n",
    "    if score1 > bestscore:\n",
    "        bestscore = score1\n",
    "        ypred = classif.predict(xtest)\n",
    "        bestclf = name"
   ]
  },
  {
   "cell_type": "code",
   "execution_count": null,
   "metadata": {},
   "outputs": [],
   "source": []
  }
 ],
 "metadata": {
  "kernelspec": {
   "display_name": "test37",
   "language": "python",
   "name": "test37"
  },
  "language_info": {
   "codemirror_mode": {
    "name": "ipython",
    "version": 3
   },
   "file_extension": ".py",
   "mimetype": "text/x-python",
   "name": "python",
   "nbconvert_exporter": "python",
   "pygments_lexer": "ipython3",
   "version": "3.7.7"
  }
 },
 "nbformat": 4,
 "nbformat_minor": 4
}
