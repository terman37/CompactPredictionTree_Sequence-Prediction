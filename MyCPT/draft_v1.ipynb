{
 "cells": [
  {
   "cell_type": "code",
   "execution_count": 18,
   "metadata": {},
   "outputs": [],
   "source": [
    "# Imports\n",
    "\n",
    "sequence = [['PH2', 'HD2', 'HDR', 'HDA', 'HDE'],\n",
    "            ['PH2', 'HD2', 'PH7', 'HD7', 'HDR'],\n",
    "            ['PH7', 'HD7', 'HDR']]"
   ]
  },
  {
   "cell_type": "code",
   "execution_count": 19,
   "metadata": {},
   "outputs": [],
   "source": [
    "# Tree data structure\n",
    "class Tree():\n",
    "    Item = None\n",
    "    Parent = None\n",
    "    Children = None\n",
    "\n",
    "    def __init__(self, item_value=None):\n",
    "        self.Item = item_value\n",
    "        self.Children = []\n",
    "        self.Parent = None\n",
    "\n",
    "    def add_child(self, child):\n",
    "        newchild = Tree(child)\n",
    "        newchild.Parent = self\n",
    "        self.Children.append(newchild)\n",
    "\n",
    "    def get_child(self, target):\n",
    "        for chld in self.Children:\n",
    "            if chld.Item == target:\n",
    "                return chld\n",
    "        return None\n",
    "\n",
    "    def get_children(self):\n",
    "        return self.Children\n",
    "\n",
    "    def has_child(self, target):\n",
    "        found = self.get_child(target)\n",
    "        if found is not None:\n",
    "            return True\n",
    "        else:\n",
    "            return False\n",
    "\n",
    "    def remove_child(self, child):\n",
    "        for chld in self.Children:\n",
    "            if chld.Item == child:\n",
    "                self.Children.remove(chld)"
   ]
  },
  {
   "cell_type": "code",
   "execution_count": 20,
   "metadata": {},
   "outputs": [],
   "source": [
    "# Training = Create prediction tree, LT and II\n",
    "# Initialize variables\n",
    "alphabet = set()\n",
    "II = {}\n",
    "LT = {}\n",
    "\n",
    "# Root Node\n",
    "root_node = Tree()\n",
    "\n",
    "for idx, seq in enumerate(sequence):\n",
    "    # Start from root node\n",
    "    current_node = root_node\n",
    "    for item in seq:\n",
    "        # Update complete list of item used\n",
    "        alphabet.add(item)\n",
    "        # Add a new branch if not existing\n",
    "        if not current_node.has_child(item):\n",
    "            current_node.add_child(item)\n",
    "        # Move one level down in tree\n",
    "        current_node = current_node.get_child(item)\n",
    "\n",
    "        # Create set in Inverted index if item not existing\n",
    "        if II.get(item) is None:\n",
    "            II[item] = set()\n",
    "        # Add idx to II\n",
    "        II[item].add(idx)\n",
    "\n",
    "    # Add last item to the lookup table\n",
    "    LT[idx] = current_node"
   ]
  },
  {
   "cell_type": "code",
   "execution_count": 21,
   "metadata": {},
   "outputs": [],
   "source": [
    "t_seq = ['HD2','PH7']"
   ]
  },
  {
   "cell_type": "code",
   "execution_count": 22,
   "metadata": {},
   "outputs": [
    {
     "ename": "StopIteration",
     "evalue": "",
     "output_type": "error",
     "traceback": [
      "\u001b[1;31m---------------------------------------------------------------------------\u001b[0m",
      "\u001b[1;31mStopIteration\u001b[0m                             Traceback (most recent call last)",
      "\u001b[1;32m<ipython-input-22-bd33537d7551>\u001b[0m in \u001b[0;36m<module>\u001b[1;34m\u001b[0m\n\u001b[0;32m     18\u001b[0m \u001b[1;33m\u001b[0m\u001b[0m\n\u001b[0;32m     19\u001b[0m \u001b[1;32mfor\u001b[0m \u001b[0mseq\u001b[0m \u001b[1;32min\u001b[0m \u001b[0msimilar_sequences\u001b[0m\u001b[1;33m:\u001b[0m\u001b[1;33m\u001b[0m\u001b[1;33m\u001b[0m\u001b[0m\n\u001b[1;32m---> 20\u001b[1;33m     \u001b[0mindex\u001b[0m \u001b[1;33m=\u001b[0m \u001b[0mnext\u001b[0m\u001b[1;33m(\u001b[0m\u001b[0mi\u001b[0m \u001b[1;32mfor\u001b[0m \u001b[0mi\u001b[0m\u001b[1;33m,\u001b[0m \u001b[0mv\u001b[0m \u001b[1;32min\u001b[0m \u001b[0mzip\u001b[0m\u001b[1;33m(\u001b[0m\u001b[0mrange\u001b[0m\u001b[1;33m(\u001b[0m\u001b[0mlen\u001b[0m\u001b[1;33m(\u001b[0m\u001b[0mseq\u001b[0m\u001b[1;33m)\u001b[0m \u001b[1;33m-\u001b[0m \u001b[1;36m1\u001b[0m\u001b[1;33m,\u001b[0m \u001b[1;36m0\u001b[0m\u001b[1;33m,\u001b[0m \u001b[1;33m-\u001b[0m\u001b[1;36m1\u001b[0m\u001b[1;33m)\u001b[0m\u001b[1;33m,\u001b[0m \u001b[0mreversed\u001b[0m\u001b[1;33m(\u001b[0m\u001b[0mseq\u001b[0m\u001b[1;33m)\u001b[0m\u001b[1;33m)\u001b[0m \u001b[1;32mif\u001b[0m \u001b[0mv\u001b[0m \u001b[1;33m==\u001b[0m \u001b[0mt_seq\u001b[0m\u001b[1;33m[\u001b[0m\u001b[1;33m-\u001b[0m\u001b[1;36m1\u001b[0m\u001b[1;33m]\u001b[0m\u001b[1;33m)\u001b[0m\u001b[1;33m\u001b[0m\u001b[1;33m\u001b[0m\u001b[0m\n\u001b[0m\u001b[0;32m     21\u001b[0m     \u001b[1;32mif\u001b[0m \u001b[0mindex\u001b[0m \u001b[1;32mis\u001b[0m \u001b[1;32mnot\u001b[0m \u001b[1;32mNone\u001b[0m\u001b[1;33m:\u001b[0m\u001b[1;33m\u001b[0m\u001b[1;33m\u001b[0m\u001b[0m\n\u001b[0;32m     22\u001b[0m         \u001b[0mcount\u001b[0m \u001b[1;33m=\u001b[0m \u001b[1;36m1\u001b[0m\u001b[1;33m\u001b[0m\u001b[1;33m\u001b[0m\u001b[0m\n",
      "\u001b[1;31mStopIteration\u001b[0m: "
     ]
    }
   ],
   "source": [
    "# Predict\n",
    "predictions = []\n",
    "k = 3 # history depth?\n",
    "n = 1 # nb of predictions\n",
    "\n",
    "t_seq = t_seq[-k:] # Take only the last k element of sequence in target\n",
    "\n",
    "all_seqs = set(range(0, len(sequence))) # TODO before loop\n",
    "\n",
    "for item in t_seq:\n",
    "    intersection = all_seqs & II.get(item)\n",
    "\n",
    "similar_sequences = []\n",
    "for element in intersection:\n",
    "    similar_sequences.append(sequence[element])\n",
    "\n",
    "counttable = {}\n",
    "\n",
    "for seq in similar_sequences:\n",
    "    index = next(i for i, v in zip(range(len(seq) - 1, 0, -1), reversed(seq)) if v == t_seq[-1])\n",
    "    if index is not None:\n",
    "        count = 1\n",
    "        for element in seq[index + 1:]:\n",
    "            if element in t_seq:\n",
    "                continue\n",
    "            weight_level = 1 / len(similar_sequences)\n",
    "            weight_distance = 1 / count\n",
    "            score = 1 + weight_level + weight_distance * 0.001\n",
    "\n",
    "            if counttable.get(element) is None:\n",
    "                counttable[element] = score\n",
    "            else:\n",
    "                counttable[element] = score * counttable.get(element)\n",
    "            counttable = counttable\n",
    "\n",
    "            count += 1\n",
    "\n",
    "largest = sorted(counttable.items(), key=lambda t: t[1], reverse=True)[:n]\n",
    "pred = [key for key, _ in largest]\n",
    "\n",
    "predictions.append(pred)"
   ]
  },
  {
   "cell_type": "code",
   "execution_count": 23,
   "metadata": {},
   "outputs": [
    {
     "data": {
      "text/plain": [
       "[]"
      ]
     },
     "execution_count": 23,
     "metadata": {},
     "output_type": "execute_result"
    }
   ],
   "source": [
    "predictions"
   ]
  },
  {
   "cell_type": "code",
   "execution_count": 52,
   "metadata": {},
   "outputs": [],
   "source": [
    "sequence = ['PH2', 'HD2', 'HDR', 'HDA', 'HDE']\n",
    "t_seq = ['PH2','HDZ']"
   ]
  },
  {
   "cell_type": "code",
   "execution_count": 53,
   "metadata": {},
   "outputs": [
    {
     "data": {
      "text/plain": [
       "[]"
      ]
     },
     "execution_count": 53,
     "metadata": {},
     "output_type": "execute_result"
    }
   ],
   "source": [
    "[i for i,v in zip(range(len(sequence) - 1, 0, -1), reversed(sequence)) if v == t_seq[-1]]"
   ]
  },
  {
   "cell_type": "code",
   "execution_count": 54,
   "metadata": {},
   "outputs": [
    {
     "ename": "ValueError",
     "evalue": "'HDZ' is not in list",
     "output_type": "error",
     "traceback": [
      "\u001b[1;31m---------------------------------------------------------------------------\u001b[0m",
      "\u001b[1;31mValueError\u001b[0m                                Traceback (most recent call last)",
      "\u001b[1;32m<ipython-input-54-b08437d20dbd>\u001b[0m in \u001b[0;36m<module>\u001b[1;34m\u001b[0m\n\u001b[1;32m----> 1\u001b[1;33m \u001b[0msequence\u001b[0m\u001b[1;33m.\u001b[0m\u001b[0mindex\u001b[0m\u001b[1;33m(\u001b[0m\u001b[0mt_seq\u001b[0m\u001b[1;33m[\u001b[0m\u001b[1;33m-\u001b[0m\u001b[1;36m1\u001b[0m\u001b[1;33m]\u001b[0m\u001b[1;33m)\u001b[0m\u001b[1;33m\u001b[0m\u001b[1;33m\u001b[0m\u001b[0m\n\u001b[0m",
      "\u001b[1;31mValueError\u001b[0m: 'HDZ' is not in list"
     ]
    }
   ],
   "source": [
    "sequence.index(t_seq[-1])"
   ]
  },
  {
   "cell_type": "code",
   "execution_count": 36,
   "metadata": {},
   "outputs": [
    {
     "data": {
      "text/plain": [
       "'HD2'"
      ]
     },
     "execution_count": 36,
     "metadata": {},
     "output_type": "execute_result"
    }
   ],
   "source": [
    "t_seq[-1]"
   ]
  },
  {
   "cell_type": "code",
   "execution_count": 47,
   "metadata": {},
   "outputs": [
    {
     "data": {
      "text/plain": [
       "[(4, 'HDE'), (3, 'HDA'), (2, 'HDR'), (1, 'HD2')]"
      ]
     },
     "execution_count": 47,
     "metadata": {},
     "output_type": "execute_result"
    }
   ],
   "source": [
    "list(zip(range(len(sequence) - 1, 0, -1), reversed(sequence)))"
   ]
  },
  {
   "cell_type": "code",
   "execution_count": null,
   "metadata": {},
   "outputs": [],
   "source": []
  }
 ],
 "metadata": {
  "kernelspec": {
   "display_name": "Lab37",
   "language": "python",
   "name": "lab37"
  },
  "language_info": {
   "codemirror_mode": {
    "name": "ipython",
    "version": 3
   },
   "file_extension": ".py",
   "mimetype": "text/x-python",
   "name": "python",
   "nbconvert_exporter": "python",
   "pygments_lexer": "ipython3",
   "version": "3.7.7"
  }
 },
 "nbformat": 4,
 "nbformat_minor": 4
}
