{
 "cells": [
  {
   "cell_type": "markdown",
   "metadata": {},
   "source": [
    "Generic imports"
   ]
  },
  {
   "cell_type": "code",
   "execution_count": null,
   "metadata": {},
   "outputs": [],
   "source": [
    "%matplotlib inline\n",
    "import matplotlib.pyplot as plt\n",
    "import pandas as pd\n",
    "import seaborn as sns\n",
    "import numpy as np"
   ]
  },
  {
   "cell_type": "code",
   "execution_count": null,
   "metadata": {},
   "outputs": [],
   "source": [
    "data = pd.read_csv('./data/sample.csv',sep=';')\n",
    "data.head()"
   ]
  },
  {
   "cell_type": "code",
   "execution_count": null,
   "metadata": {},
   "outputs": [],
   "source": [
    "# Parameters\n",
    "history_depth = 3"
   ]
  },
  {
   "cell_type": "code",
   "execution_count": null,
   "metadata": {},
   "outputs": [],
   "source": [
    "new = []\n",
    "\n",
    "keep=['BENEFICIAIRE_AGE','BENEFICIAIRE_SEXE']\n",
    "for idx,row in data.iterrows():\n",
    "    \n",
    "    X=[row[c] for c in keep]\n",
    "\n",
    "    seq = row['LISTE_ACTES_EXT'].split('|')\n",
    "    for i in range(history_depth):\n",
    "        seq = ['0'] + seq\n",
    "    seq = seq + ['0']\n",
    "    \n",
    "    for x in range(len(seq)-history_depth):\n",
    "        W=[]\n",
    "        Z = [i for i in seq[x:x+history_depth+1]]\n",
    "        W = X+Z\n",
    "        new.append(W)  "
   ]
  },
  {
   "cell_type": "code",
   "execution_count": null,
   "metadata": {},
   "outputs": [],
   "source": [
    "cols = keep + ['X%i' % i for i in range(history_depth)] + ['Y']\n",
    "df = pd.DataFrame(new,columns=cols)"
   ]
  },
  {
   "cell_type": "code",
   "execution_count": null,
   "metadata": {},
   "outputs": [],
   "source": [
    "df"
   ]
  },
  {
   "cell_type": "code",
   "execution_count": null,
   "metadata": {},
   "outputs": [],
   "source": [
    "df['BENEFICIAIRE_SEXE'] = df['BENEFICIAIRE_SEXE'].astype('category')\n",
    "df['X0'] = df['X0'].astype('category')\n",
    "df['X1'] = df['X1'].astype('category')\n",
    "df['X2'] = df['X2'].astype('category')\n",
    "df['Y'] = df['Y']"
   ]
  },
  {
   "cell_type": "markdown",
   "metadata": {},
   "source": [
    "FIRST LOOK AT DATAS"
   ]
  },
  {
   "cell_type": "code",
   "execution_count": null,
   "metadata": {
    "scrolled": true
   },
   "outputs": [],
   "source": [
    "df.head()"
   ]
  },
  {
   "cell_type": "code",
   "execution_count": null,
   "metadata": {},
   "outputs": [],
   "source": [
    "df.info()"
   ]
  },
  {
   "cell_type": "code",
   "execution_count": null,
   "metadata": {},
   "outputs": [],
   "source": [
    "df.describe()"
   ]
  },
  {
   "cell_type": "code",
   "execution_count": null,
   "metadata": {},
   "outputs": [],
   "source": [
    "df.hist();"
   ]
  },
  {
   "cell_type": "code",
   "execution_count": null,
   "metadata": {},
   "outputs": [],
   "source": [
    "sns.catplot(x='BENEFICIAIRE_SEXE',kind=\"count\",data=df)"
   ]
  },
  {
   "cell_type": "code",
   "execution_count": null,
   "metadata": {},
   "outputs": [],
   "source": [
    "class MultiColumnLabelEncoder:\n",
    "    def __init__(self,columns = None):\n",
    "        self.columns = columns # array of column names to encode\n",
    "\n",
    "    def fit(self,X,y=None):\n",
    "        return self # not relevant here\n",
    "\n",
    "    def transform(self,X):\n",
    "        '''\n",
    "        Transforms columns of X specified in self.columns using\n",
    "        LabelEncoder(). If no columns specified, transforms all\n",
    "        columns in X.\n",
    "        '''\n",
    "        output = X.copy()\n",
    "        if self.columns is not None:\n",
    "            for col in self.columns:\n",
    "                output[col] = LabelEncoder().fit_transform(output[col])\n",
    "        else:\n",
    "            for colname,col in output.iteritems():\n",
    "                output[colname] = LabelEncoder().fit_transform(col)\n",
    "        return output\n",
    "\n",
    "    def fit_transform(self,X,y=None):\n",
    "        return self.fit(X,y).transform(X)"
   ]
  },
  {
   "cell_type": "code",
   "execution_count": null,
   "metadata": {},
   "outputs": [],
   "source": [
    "\n",
    "df_e = MultiColumnLabelEncoder(columns=['BENEFICIAIRE_SEXE','X0','X1','X2','Y']).transform(df)\n"
   ]
  },
  {
   "cell_type": "code",
   "execution_count": null,
   "metadata": {},
   "outputs": [],
   "source": [
    "df_e"
   ]
  },
  {
   "cell_type": "code",
   "execution_count": null,
   "metadata": {},
   "outputs": [],
   "source": [
    "from sklearn.model_selection import train_test_split\n",
    "\n",
    "X=df.drop(labels='Y', axis=1)\n",
    "Y=df['Y']\n",
    "\n",
    "# Create train and test sets\n",
    "xtrain,xtest,ytrain,ytest= train_test_split(X,Y,test_size=0.2,random_state=37)"
   ]
  },
  {
   "cell_type": "markdown",
   "metadata": {},
   "source": [
    "SCALE EXPLANATORY VARIABLES"
   ]
  },
  {
   "cell_type": "code",
   "execution_count": null,
   "metadata": {},
   "outputs": [],
   "source": [
    "from sklearn.preprocessing import LabelEncoder\n",
    "\n",
    "encoder = LabelEncoder()\n",
    "encoder.fit(xtrain['BENEFICIAIRE_SEXE'])\n",
    "\n",
    "xtrain_s = xtrain.copy()\n",
    "\n",
    "xtrain_s['BENEFICIAIRE_SEXE'] = encoder.transform(xtrain_s['BENEFICIAIRE_SEXE'])\n"
   ]
  },
  {
   "cell_type": "code",
   "execution_count": null,
   "metadata": {},
   "outputs": [],
   "source": [
    "xtrain_s = xtrain.copy()\n",
    "\n",
    "for idx,row in df.select_dtypes(include='category').iteritems():\n",
    "    print(row.name)\n",
    "    break\n"
   ]
  },
  {
   "cell_type": "code",
   "execution_count": null,
   "metadata": {},
   "outputs": [],
   "source": [
    "xtrain_s.info()"
   ]
  },
  {
   "cell_type": "code",
   "execution_count": null,
   "metadata": {},
   "outputs": [],
   "source": [
    "# from sklearn.preprocessing import StandardScaler\n",
    "\n",
    "# # Scale x data\n",
    "# scaler = StandardScaler()\n",
    "# scaler.fit(xtrain)\n",
    "\n",
    "# xtrain_s = scaler.transform(xtrain)\n",
    "# xtest_s = scaler.transform(xtest)"
   ]
  },
  {
   "cell_type": "markdown",
   "metadata": {},
   "source": [
    "TRY DIFFERENT CLASSIFIERS FOR FIRST EVALUATION"
   ]
  },
  {
   "cell_type": "code",
   "execution_count": null,
   "metadata": {},
   "outputs": [],
   "source": [
    "from sklearn.neighbors import KNeighborsClassifier\n",
    "from sklearn.tree import DecisionTreeClassifier\n",
    "from sklearn.svm import SVC\n",
    "from sklearn.ensemble import RandomForestClassifier, AdaBoostClassifier\n",
    "from sklearn.naive_bayes import GaussianNB\n",
    "\n",
    "classifs = [KNeighborsClassifier(),\n",
    "           DecisionTreeClassifier(random_state=37),\n",
    "           SVC(),\n",
    "           RandomForestClassifier(random_state=37),\n",
    "           AdaBoostClassifier(random_state=37),\n",
    "           GaussianNB(),\n",
    "           ]\n",
    "\n",
    "classif_names=['KNN\\t\\t', \n",
    "               'DecisionTree\\t', \n",
    "               'SVC\\t\\t',\n",
    "               'RandomForest\\t',\n",
    "               'AdaBoost\\t',\n",
    "               'Naive Bayes\\t',\n",
    "               ]\n",
    "\n",
    "# Apply different classifiers\n",
    "bestscore=0\n",
    "bestclf =''\n",
    "for name, clf in zip(classif_names, classifs):\n",
    "    classif = clf.fit(xtrain, ytrain)\n",
    "    \n",
    "    score1 = classif.score(xtest_s, ytest)*100\n",
    "    print(\"%s Score : %.2f %%\" % (name, score1))\n",
    "    if score1 > bestscore:\n",
    "        bestscore = score1\n",
    "        ypred = classif.predict(xtest)\n",
    "        bestclf = name"
   ]
  },
  {
   "cell_type": "code",
   "execution_count": null,
   "metadata": {},
   "outputs": [],
   "source": [
    "print('Best score using: %s' % bestclf)"
   ]
  },
  {
   "cell_type": "markdown",
   "metadata": {},
   "source": [
    "CROSS VALIDATION EVALUATION"
   ]
  },
  {
   "cell_type": "code",
   "execution_count": null,
   "metadata": {},
   "outputs": [],
   "source": [
    "from sklearn.model_selection import cross_val_score\n",
    "\n",
    "classif = RandomForestClassifier(random_state=37)\n",
    "model = classif.fit(xtrain_s, ytrain)\n",
    "\n",
    "accu = cross_val_score(model,xtrain_s, ytrain,scoring='accuracy',cv=5)\n",
    "                        \n",
    "\n",
    "print(\"model scores:\",accu)\n",
    "print(\"avg:\",accu.mean())\n",
    "print(\"std dev:\",accu.std())"
   ]
  },
  {
   "cell_type": "markdown",
   "metadata": {},
   "source": [
    "TRY MODEL IMPROVEMENT BY TUNING PARAMETERS USING GRID SEARCH"
   ]
  },
  {
   "cell_type": "code",
   "execution_count": null,
   "metadata": {},
   "outputs": [],
   "source": [
    "from sklearn.model_selection import GridSearchCV\n",
    "\n",
    "param_grid = [\n",
    "    {\n",
    "        'bootstrap':[True,False],\n",
    "        'n_estimators':[10,50,100,],\n",
    "        'max_features':[3,5,7,'auto'],\n",
    "        'max_depth':[2,5,10,None],\n",
    "    }\n",
    "]\n",
    "\n",
    "classif = RandomForestClassifier(random_state=37)\n",
    "grid_search = GridSearchCV(classif,param_grid,cv=3,return_train_score=True)\n",
    "grid_search.fit(xtrain_s,ytrain);"
   ]
  },
  {
   "cell_type": "code",
   "execution_count": null,
   "metadata": {},
   "outputs": [],
   "source": [
    "grid_search.best_params_"
   ]
  },
  {
   "cell_type": "code",
   "execution_count": null,
   "metadata": {},
   "outputs": [],
   "source": [
    "grid_search.best_score_"
   ]
  },
  {
   "cell_type": "code",
   "execution_count": null,
   "metadata": {},
   "outputs": [],
   "source": [
    "from sklearn.model_selection import cross_val_predict\n",
    "from sklearn.metrics import classification_report, confusion_matrix\n",
    "\n",
    "ytrain_pred = cross_val_predict(grid_search.best_estimator_,xtrain_s,ytrain,cv=3)\n",
    "confmatr = confusion_matrix(ytrain, ytrain_pred)"
   ]
  },
  {
   "cell_type": "code",
   "execution_count": null,
   "metadata": {},
   "outputs": [],
   "source": [
    "print(confusion_matrix(ytrain, ytrain_pred))\n",
    "print(classification_report(ytrain, ytrain_pred))"
   ]
  },
  {
   "cell_type": "code",
   "execution_count": null,
   "metadata": {},
   "outputs": [],
   "source": [
    "plt.matshow(confmatr,cmap=plt.cm.gray);"
   ]
  },
  {
   "cell_type": "code",
   "execution_count": null,
   "metadata": {},
   "outputs": [],
   "source": [
    "row_sums = confmatr.sum(axis=1,keepdims=True)\n",
    "norm_conf_matr = confmatr / row_sums\n",
    "np.fill_diagonal(norm_conf_matr,0)\n",
    "plt.matshow(norm_conf_matr,cmap=plt.cm.gray);"
   ]
  },
  {
   "cell_type": "markdown",
   "metadata": {},
   "source": [
    "EVALUATE MODEL ON TEST DATASET"
   ]
  },
  {
   "cell_type": "code",
   "execution_count": null,
   "metadata": {},
   "outputs": [],
   "source": [
    "ypred = grid_search.best_estimator_.predict(xtest_s)\n",
    "\n",
    "score = grid_search.best_estimator_.score(xtest_s, ytest)*100\n",
    "\n",
    "print(\"Model score: %.2f%% on test dataset (%d obs)\" % (score,len(ytest)))\n"
   ]
  },
  {
   "cell_type": "code",
   "execution_count": null,
   "metadata": {},
   "outputs": [],
   "source": [
    "from sklearn.metrics import classification_report, confusion_matrix\n",
    "\n",
    "confmatr = confusion_matrix(ytest, ypred)\n",
    "confm = pd.DataFrame(confmatr)\n",
    "\n",
    "print(confusion_matrix(ytest, ypred))\n",
    "print(classification_report(ytest, ypred))"
   ]
  },
  {
   "cell_type": "code",
   "execution_count": null,
   "metadata": {
    "scrolled": true
   },
   "outputs": [],
   "source": [
    "plt.matshow(confmatr,cmap=plt.cm.gray);"
   ]
  },
  {
   "cell_type": "code",
   "execution_count": null,
   "metadata": {},
   "outputs": [],
   "source": [
    "row_sums = confmatr.sum(axis=1,keepdims=True)\n",
    "norm_conf_matr = confmatr / row_sums\n",
    "np.fill_diagonal(norm_conf_matr,0)\n",
    "plt.matshow(norm_conf_matr,cmap=plt.cm.gray);"
   ]
  },
  {
   "cell_type": "code",
   "execution_count": null,
   "metadata": {},
   "outputs": [],
   "source": []
  }
 ],
 "metadata": {
  "kernelspec": {
   "display_name": "test37",
   "language": "python",
   "name": "test37"
  },
  "language_info": {
   "codemirror_mode": {
    "name": "ipython",
    "version": 3
   },
   "file_extension": ".py",
   "mimetype": "text/x-python",
   "name": "python",
   "nbconvert_exporter": "python",
   "pygments_lexer": "ipython3",
   "version": "3.7.7"
  }
 },
 "nbformat": 4,
 "nbformat_minor": 4
}
