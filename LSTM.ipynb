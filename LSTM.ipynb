{
 "cells": [
  {
   "cell_type": "code",
   "execution_count": 1,
   "metadata": {},
   "outputs": [],
   "source": [
    "import pandas as pd\n",
    "import numpy as np\n",
    "import matplotlib.pyplot as plt\n",
    "import pickle"
   ]
  },
  {
   "cell_type": "code",
   "execution_count": 19,
   "metadata": {},
   "outputs": [],
   "source": [
    "df = pd.read_csv('./data/sample.csv',sep=';')"
   ]
  },
  {
   "cell_type": "code",
   "execution_count": 20,
   "metadata": {},
   "outputs": [
    {
     "data": {
      "text/html": [
       "<div>\n",
       "<style scoped>\n",
       "    .dataframe tbody tr th:only-of-type {\n",
       "        vertical-align: middle;\n",
       "    }\n",
       "\n",
       "    .dataframe tbody tr th {\n",
       "        vertical-align: top;\n",
       "    }\n",
       "\n",
       "    .dataframe thead th {\n",
       "        text-align: right;\n",
       "    }\n",
       "</style>\n",
       "<table border=\"1\" class=\"dataframe\">\n",
       "  <thead>\n",
       "    <tr style=\"text-align: right;\">\n",
       "      <th></th>\n",
       "      <th>PARCOURS_BENEF_ID</th>\n",
       "      <th>BENEFICIAIRE_NUM_PERS_RFM</th>\n",
       "      <th>PARCOURS_BENEF</th>\n",
       "    </tr>\n",
       "  </thead>\n",
       "  <tbody>\n",
       "    <tr>\n",
       "      <th>0</th>\n",
       "      <td>26|26</td>\n",
       "      <td>89501</td>\n",
       "      <td>PH_65|PH_65</td>\n",
       "    </tr>\n",
       "    <tr>\n",
       "      <th>1</th>\n",
       "      <td>01|19|23|26|19|23|26|03|07|01|19|23|26|13|17|0...</td>\n",
       "      <td>40445</td>\n",
       "      <td>Accesoi|Orthese|PH_65|PH_Autr|Orthese|PH_65|PH...</td>\n",
       "    </tr>\n",
       "    <tr>\n",
       "      <th>2</th>\n",
       "      <td>23|26</td>\n",
       "      <td>50548</td>\n",
       "      <td>PH_65|PH_Autr</td>\n",
       "    </tr>\n",
       "    <tr>\n",
       "      <th>3</th>\n",
       "      <td>23|26|26|07|23|26|26|26</td>\n",
       "      <td>4196</td>\n",
       "      <td>PH_65|PH_Autr|PH_65|Inf|PH_65|PH_Autr|PH_65|PH_65</td>\n",
       "    </tr>\n",
       "    <tr>\n",
       "      <th>4</th>\n",
       "      <td>13</td>\n",
       "      <td>60621</td>\n",
       "      <td>Med_Gen</td>\n",
       "    </tr>\n",
       "  </tbody>\n",
       "</table>\n",
       "</div>"
      ],
      "text/plain": [
       "                                   PARCOURS_BENEF_ID  \\\n",
       "0                                              26|26   \n",
       "1  01|19|23|26|19|23|26|03|07|01|19|23|26|13|17|0...   \n",
       "2                                              23|26   \n",
       "3                            23|26|26|07|23|26|26|26   \n",
       "4                                                 13   \n",
       "\n",
       "   BENEFICIAIRE_NUM_PERS_RFM  \\\n",
       "0                      89501   \n",
       "1                      40445   \n",
       "2                      50548   \n",
       "3                       4196   \n",
       "4                      60621   \n",
       "\n",
       "                                      PARCOURS_BENEF  \n",
       "0                                        PH_65|PH_65  \n",
       "1  Accesoi|Orthese|PH_65|PH_Autr|Orthese|PH_65|PH...  \n",
       "2                                      PH_65|PH_Autr  \n",
       "3  PH_65|PH_Autr|PH_65|Inf|PH_65|PH_Autr|PH_65|PH_65  \n",
       "4                                            Med_Gen  "
      ]
     },
     "execution_count": 20,
     "metadata": {},
     "output_type": "execute_result"
    }
   ],
   "source": [
    "df.head()"
   ]
  },
  {
   "cell_type": "code",
   "execution_count": 3,
   "metadata": {},
   "outputs": [
    {
     "data": {
      "text/plain": [
       "0                                                   26|26\n",
       "1       01|19|23|26|19|23|26|03|07|01|19|23|26|13|17|0...\n",
       "2                                                   23|26\n",
       "3                                 23|26|26|07|23|26|26|26\n",
       "4                                                      13\n",
       "                              ...                        \n",
       "9995                     26|19|26|26|03|07|13|18|26|04|08\n",
       "9996                  11|13|30|23|06|07|23|26|06|06|26|26\n",
       "9997                                             23|26|26\n",
       "9998                                             13|03|20\n",
       "9999            07|07|23|26|07|19|23|26|19|13|17|23|23|26\n",
       "Name: PARCOURS_BENEF_ID, Length: 10000, dtype: object"
      ]
     },
     "execution_count": 3,
     "metadata": {},
     "output_type": "execute_result"
    }
   ],
   "source": [
    "seqs = df['PARCOURS_BENEF_ID']\n",
    "seqs"
   ]
  },
  {
   "cell_type": "code",
   "execution_count": 8,
   "metadata": {},
   "outputs": [],
   "source": [
    "# Parameters\n",
    "history_depth = 1"
   ]
  },
  {
   "cell_type": "code",
   "execution_count": 9,
   "metadata": {},
   "outputs": [],
   "source": [
    "# Create sequences\n",
    "\n",
    "NX=[]\n",
    "NY=[]\n",
    "Nseq = []\n",
    "\n",
    "for idx,row in seqs.items():\n",
    "    seq = row.split('|')\n",
    "    seq = [i for i in seq]\n",
    "    Nseq.append(seq)\n",
    "    \n",
    "    for i in range(history_depth):\n",
    "        seq = [0] + seq\n",
    "    seq = seq + [0]\n",
    "    for x in range(len(seq)-history_depth):  \n",
    "        NX.append(seq[x:x+history_depth])\n",
    "        NY.append(seq[x+history_depth])  \n",
    "    \n",
    "X = np.array(NX)\n",
    "Y = np.array(NY)"
   ]
  },
  {
   "cell_type": "code",
   "execution_count": 28,
   "metadata": {},
   "outputs": [],
   "source": [
    "# Create csv file for CPT algo trial\n",
    "with open('./data/output_seqs.csv','a') as f:\n",
    "    for row in Nseq:\n",
    "        line = ','.join(row) + '\\n'\n",
    "        f.write(line)\n",
    "        "
   ]
  },
  {
   "cell_type": "code",
   "execution_count": 40,
   "metadata": {},
   "outputs": [],
   "source": [
    "type(X)\n",
    "pd.DataFrame(X).to_csv(\"./data/output_seqs2.csv\",header=False,index=False)"
   ]
  },
  {
   "cell_type": "code",
   "execution_count": 6,
   "metadata": {},
   "outputs": [
    {
     "name": "stdout",
     "output_type": "stream",
     "text": [
      "1273925 sequences generated\n"
     ]
    }
   ],
   "source": [
    "n_records = X.shape[0]\n",
    "print(\"%d sequences generated\" % n_records)"
   ]
  },
  {
   "cell_type": "code",
   "execution_count": 7,
   "metadata": {},
   "outputs": [],
   "source": [
    "# create mapping of unique cat to integers\n",
    "cat = np.unique(X)\n",
    "nb_cat = len(cat)\n",
    "cat_to_int = dict((c, i) for i, c in enumerate(cat))"
   ]
  },
  {
   "cell_type": "code",
   "execution_count": 8,
   "metadata": {},
   "outputs": [
    {
     "data": {
      "text/plain": [
       "{'0': 0,\n",
       " '01': 1,\n",
       " '02': 2,\n",
       " '03': 3,\n",
       " '04': 4,\n",
       " '05': 5,\n",
       " '06': 6,\n",
       " '07': 7,\n",
       " '08': 8,\n",
       " '09': 9,\n",
       " '10': 10,\n",
       " '11': 11,\n",
       " '12': 12,\n",
       " '13': 13,\n",
       " '14': 14,\n",
       " '15': 15,\n",
       " '16': 16,\n",
       " '17': 17,\n",
       " '18': 18,\n",
       " '19': 19,\n",
       " '20': 20,\n",
       " '21': 21,\n",
       " '22': 22,\n",
       " '23': 23,\n",
       " '24': 24,\n",
       " '25': 25,\n",
       " '26': 26,\n",
       " '27': 27,\n",
       " '29': 28,\n",
       " '30': 29,\n",
       " '31': 30,\n",
       " '32': 31,\n",
       " '33': 32}"
      ]
     },
     "execution_count": 8,
     "metadata": {},
     "output_type": "execute_result"
    }
   ],
   "source": [
    "cat_to_int"
   ]
  },
  {
   "cell_type": "code",
   "execution_count": 9,
   "metadata": {},
   "outputs": [],
   "source": [
    "# translate X and Y with dictionnary\n",
    "XX = [cat_to_int[i] for i in X.reshape(-1)]\n",
    "YY = [cat_to_int[i] for i in Y.reshape(-1)]"
   ]
  },
  {
   "cell_type": "code",
   "execution_count": 10,
   "metadata": {},
   "outputs": [],
   "source": [
    "# Reshape\n",
    "X = np.array(XX).reshape((-1,history_depth,1))\n",
    "# Normalize\n",
    "X = X / float(nb_cat)"
   ]
  },
  {
   "cell_type": "code",
   "execution_count": 11,
   "metadata": {},
   "outputs": [
    {
     "name": "stderr",
     "output_type": "stream",
     "text": [
      "Using TensorFlow backend.\n"
     ]
    }
   ],
   "source": [
    "# one hot encode Y\n",
    "from keras.utils import np_utils\n",
    "y = np_utils.to_categorical(YY)"
   ]
  },
  {
   "cell_type": "code",
   "execution_count": 12,
   "metadata": {},
   "outputs": [],
   "source": [
    "from keras.backend import clear_session\n",
    "\n",
    "clear_session()\n",
    "model = None"
   ]
  },
  {
   "cell_type": "code",
   "execution_count": 13,
   "metadata": {},
   "outputs": [
    {
     "name": "stdout",
     "output_type": "stream",
     "text": [
      "Model: \"sequential_1\"\n",
      "_________________________________________________________________\n",
      "Layer (type)                 Output Shape              Param #   \n",
      "=================================================================\n",
      "lstm_1 (LSTM)                (None, 3, 100)            40800     \n",
      "_________________________________________________________________\n",
      "lstm_2 (LSTM)                (None, 50)                30200     \n",
      "_________________________________________________________________\n",
      "dropout_1 (Dropout)          (None, 50)                0         \n",
      "_________________________________________________________________\n",
      "dense_1 (Dense)              (None, 33)                1683      \n",
      "=================================================================\n",
      "Total params: 72,683\n",
      "Trainable params: 72,683\n",
      "Non-trainable params: 0\n",
      "_________________________________________________________________\n",
      "None\n"
     ]
    }
   ],
   "source": [
    "# Define model\n",
    "from keras.models import Sequential\n",
    "from keras.layers import LSTM, Dense, Dropout\n",
    "\n",
    "model = Sequential()\n",
    "\n",
    "model.add(LSTM(100,input_shape=(history_depth,1),return_sequences=True))\n",
    "model.add(LSTM(50))\n",
    "model.add(Dropout(0.2))\n",
    "model.add(Dense(nb_cat, activation='softmax'))\n",
    "model.compile(loss='categorical_crossentropy', optimizer='adam',metrics=['accuracy'])\n",
    "          \n",
    "print(model.summary())"
   ]
  },
  {
   "cell_type": "code",
   "execution_count": 14,
   "metadata": {},
   "outputs": [
    {
     "name": "stdout",
     "output_type": "stream",
     "text": [
      "Train on 1019140 samples, validate on 254785 samples\n",
      "Epoch 1/10\n",
      "1019140/1019140 [==============================] - 95s 93us/step - loss: 2.1073 - accuracy: 0.3546 - val_loss: 2.0515 - val_accuracy: 0.3601\n",
      "Epoch 2/10\n",
      "1019140/1019140 [==============================] - 97s 96us/step - loss: 1.9205 - accuracy: 0.4090 - val_loss: 2.0007 - val_accuracy: 0.3885\n",
      "Epoch 3/10\n",
      "1019140/1019140 [==============================] - 97s 96us/step - loss: 1.8874 - accuracy: 0.4194 - val_loss: 1.9647 - val_accuracy: 0.3922\n",
      "Epoch 4/10\n",
      "1019140/1019140 [==============================] - 94s 92us/step - loss: 1.8691 - accuracy: 0.4243 - val_loss: 1.9629 - val_accuracy: 0.3976\n",
      "Epoch 5/10\n",
      "1019140/1019140 [==============================] - 87s 86us/step - loss: 1.8583 - accuracy: 0.4278 - val_loss: 1.9741 - val_accuracy: 0.3962\n",
      "Epoch 6/10\n",
      "1019140/1019140 [==============================] - 87s 85us/step - loss: 1.8503 - accuracy: 0.4309 - val_loss: 1.9799 - val_accuracy: 0.4017\n",
      "Epoch 7/10\n",
      "1019140/1019140 [==============================] - 92s 90us/step - loss: 1.8447 - accuracy: 0.4323 - val_loss: 1.9844 - val_accuracy: 0.4030\n",
      "Epoch 00007: early stopping\n"
     ]
    }
   ],
   "source": [
    "# Train model\n",
    "from keras.callbacks import EarlyStopping\n",
    "es = EarlyStopping(monitor='val_loss', mode='min', patience=3, verbose=1)\n",
    "\n",
    "history = model.fit(X,y,epochs=10, batch_size=128, validation_split=0.2, callbacks=[es])"
   ]
  },
  {
   "cell_type": "code",
   "execution_count": 15,
   "metadata": {},
   "outputs": [
    {
     "data": {
      "image/png": "[encoded data removed]",
      "text/plain": [
       "<Figure size 576x360 with 1 Axes>"
      ]
     },
     "metadata": {
      "needs_background": "light"
     },
     "output_type": "display_data"
    }
   ],
   "source": [
    "pd.DataFrame(history.history).plot(figsize=(8, 5))\n",
    "plt.grid(True)\n",
    "plt.gca()\n",
    "plt.show()"
   ]
  },
  {
   "cell_type": "code",
   "execution_count": null,
   "metadata": {},
   "outputs": [],
   "source": [
    "# save cat_dict\n",
    "filename = './cat_dict.pkl'\n",
    "pickle.dump(cat_to_int, open(filename, 'wb'))\n",
    "\n",
    "# Save LSTM model\n",
    "model.save('./model.h5')"
   ]
  },
  {
   "cell_type": "code",
   "execution_count": null,
   "metadata": {},
   "outputs": [],
   "source": [
    "print(history_depth)"
   ]
  },
  {
   "cell_type": "code",
   "execution_count": null,
   "metadata": {},
   "outputs": [],
   "source": [
    "# sample sequence used to predict next\n",
    "xtest = ['26','18','0']"
   ]
  },
  {
   "cell_type": "code",
   "execution_count": null,
   "metadata": {},
   "outputs": [],
   "source": [
    "# preprocess\n",
    "xtest_dict = np.array([cat_to_int[i] for i in xtest])\n",
    "xtest_norm = xtest_dict / float(len(cat_to_int))\n",
    "x = xtest_norm.reshape((1,history_depth,1))"
   ]
  },
  {
   "cell_type": "code",
   "execution_count": null,
   "metadata": {},
   "outputs": [],
   "source": [
    "# predcition\n",
    "p = model.predict(x)"
   ]
  },
  {
   "cell_type": "code",
   "execution_count": null,
   "metadata": {},
   "outputs": [],
   "source": [
    "# reverse dictionnary\n",
    "int_to_cat = {v: k for k, v in cat_to_int.items()}\n",
    "\n",
    "# decode\n",
    "print('next in sequence: [%s] -- with probability %.1f %%' % (int_to_cat[np.argmax(p)],p.max()*100))"
   ]
  },
  {
   "cell_type": "code",
   "execution_count": null,
   "metadata": {},
   "outputs": [],
   "source": []
  },
  {
   "cell_type": "code",
   "execution_count": null,
   "metadata": {},
   "outputs": [],
   "source": [
    "model.predict_classes(x)"
   ]
  },
  {
   "cell_type": "code",
   "execution_count": null,
   "metadata": {},
   "outputs": [],
   "source": []
  }
 ],
 "metadata": {
  "kernelspec": {
   "display_name": "test37",
   "language": "python",
   "name": "test37"
  },
  "language_info": {
   "codemirror_mode": {
    "name": "ipython",
    "version": 3
   },
   "file_extension": ".py",
   "mimetype": "text/x-python",
   "name": "python",
   "nbconvert_exporter": "python",
   "pygments_lexer": "ipython3",
   "version": "3.7.7"
  }
 },
 "nbformat": 4,
 "nbformat_minor": 4
}
