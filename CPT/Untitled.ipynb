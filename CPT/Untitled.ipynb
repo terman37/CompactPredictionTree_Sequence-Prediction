{
 "cells": [
  {
   "cell_type": "code",
   "execution_count": 1,
   "metadata": {},
   "outputs": [],
   "source": [
    "from CPT import *\n",
    "model = CPT()\n"
   ]
  },
  {
   "cell_type": "code",
   "execution_count": 2,
   "metadata": {},
   "outputs": [],
   "source": [
    "data,target = model.load_files(\"./data/mytrain.csv\",\"./data/mytest.csv\")\n"
   ]
  },
  {
   "cell_type": "code",
   "execution_count": 6,
   "metadata": {},
   "outputs": [
    {
     "name": "stdout",
     "output_type": "stream",
     "text": [
      "17\n",
      "23\n",
      "23\n",
      "23\n",
      "23\n"
     ]
    }
   ],
   "source": [
    "for seqid,row in enumerate(data):\n",
    "    for element in row:\n",
    "        print(element)\n",
    "    break\n"
   ]
  },
  {
   "cell_type": "code",
   "execution_count": 9,
   "metadata": {},
   "outputs": [
    {
     "data": {
      "text/plain": [
       "True"
      ]
     },
     "execution_count": 9,
     "metadata": {},
     "output_type": "execute_result"
    }
   ],
   "source": [
    "model.train(data)\n"
   ]
  },
  {
   "cell_type": "code",
   "execution_count": 15,
   "metadata": {},
   "outputs": [
    {
     "name": "stdout",
     "output_type": "stream",
     "text": [
      "None\n"
     ]
    }
   ],
   "source": [
    "x = model.LT[0]\n",
    "z = x.getChild(1)\n",
    "print(z)"
   ]
  },
  {
   "cell_type": "code",
   "execution_count": 27,
   "metadata": {},
   "outputs": [
    {
     "name": "stderr",
     "output_type": "stream",
     "text": [
      "100%|██████████████████████████████████████████████████████████████████████████████████| 22/22 [00:00<00:00, 26.29it/s]\n"
     ]
    }
   ],
   "source": [
    "predictions = model.predict(data,target,5,2)"
   ]
  },
  {
   "cell_type": "code",
   "execution_count": 28,
   "metadata": {},
   "outputs": [
    {
     "data": {
      "text/plain": [
       "[[13, 26],\n",
       " [26, 23],\n",
       " [13, 23],\n",
       " [13, 26],\n",
       " [9, 7],\n",
       " [13, 17],\n",
       " [13, 26],\n",
       " [26, 17],\n",
       " [],\n",
       " [3, 23],\n",
       " [23, 3],\n",
       " [],\n",
       " [23, 19],\n",
       " [],\n",
       " [],\n",
       " [],\n",
       " [],\n",
       " [3, 9],\n",
       " [13, 7],\n",
       " [13, 3],\n",
       " [],\n",
       " [13, 3]]"
      ]
     },
     "execution_count": 28,
     "metadata": {},
     "output_type": "execute_result"
    }
   ],
   "source": [
    "predictions"
   ]
  },
  {
   "cell_type": "code",
   "execution_count": null,
   "metadata": {},
   "outputs": [],
   "source": []
  }
 ],
 "metadata": {
  "kernelspec": {
   "display_name": "test37",
   "language": "python",
   "name": "test37"
  },
  "language_info": {
   "codemirror_mode": {
    "name": "ipython",
    "version": 3
   },
   "file_extension": ".py",
   "mimetype": "text/x-python",
   "name": "python",
   "nbconvert_exporter": "python",
   "pygments_lexer": "ipython3",
   "version": "3.7.7"
  }
 },
 "nbformat": 4,
 "nbformat_minor": 4
}
